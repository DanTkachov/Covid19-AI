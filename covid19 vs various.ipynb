{
 "cells": [
  {
   "cell_type": "markdown",
   "metadata": {
    "nbpresent": {
     "id": "1d234e3f-af8b-4757-83f3-241b04b7a511"
    }
   },
   "source": [
    "# Class Challenge: Image Classification of COVID-19 X-rays\n",
    "# Task 2 [Total points: 30]"
   ]
  },
  {
   "cell_type": "markdown",
   "metadata": {
    "nbpresent": {
     "id": "b07b9992-b592-4871-9f9a-3b0ae5fa8b5f"
    }
   },
   "source": [
    "## Setup\n",
    "\n",
    "* This assignment involves the following packages: 'matplotlib', 'numpy', and 'sklearn'. \n",
    "\n",
    "* If you are using conda, use the following commands to install the above packages:<br>\n",
    "```shell\n",
    "conda install matplotlib\n",
    "conda install numpy\n",
    "conda install -c anaconda scikit-learn\n",
    "```\n",
    "\n",
    "* If you are using pip, use use the following commands to install the above packages: <br> \n",
    "```shell\n",
    "pip install matplotlib\n",
    "pip install numpy\n",
    "pip install sklearn\n",
    "```"
   ]
  },
  {
   "cell_type": "markdown",
   "metadata": {
    "nbpresent": {
     "id": "5516f610-f00c-43c3-bf19-4cf7ab9c089f"
    }
   },
   "source": [
    "## Data\n",
    "\n",
    "Please download the data using the following link: [COVID-19](https://drive.google.com/file/d/1Y88tgqpQ1Pjko_7rntcPowOJs_QNOrJ-/view). \n",
    "\n",
    "* After downloading 'Covid_Data_GradientCrescent.zip', unzip the file and you should see the following data structure:\n",
    "\n",
    "\n",
    "|--all<br>\n",
    "|--------train<br>\n",
    "|--------test<br>\n",
    "|--two<br>\n",
    "|--------train<br>\n",
    "|--------test<br>\n",
    "\n",
    "\n",
    "* Put the 'all' folder, the 'two' folder and this python notebook in the **same directory** so that the following code can correctly locate the data.  \n",
    "\n"
   ]
  },
  {
   "cell_type": "markdown",
   "metadata": {
    "nbpresent": {
     "id": "66140980-2aa4-457f-b1df-74c10c234cc2"
    }
   },
   "source": [
    "## [20 points] Multi-class Classification"
   ]
  },
  {
   "cell_type": "code",
   "execution_count": 1,
   "metadata": {
    "nbpresent": {
     "id": "5e05f980-3d14-4367-b3d1-664249145b13"
    },
    "scrolled": true
   },
   "outputs": [
    {
     "name": "stderr",
     "output_type": "stream",
     "text": [
      "2021-12-30 00:14:39.833305: W tensorflow/stream_executor/platform/default/dso_loader.cc:64] Could not load dynamic library 'libcudart.so.11.0'; dlerror: libcudart.so.11.0: cannot open shared object file: No such file or directory\n",
      "2021-12-30 00:14:39.833325: I tensorflow/stream_executor/cuda/cudart_stub.cc:29] Ignore above cudart dlerror if you do not have a GPU set up on your machine.\n"
     ]
    },
    {
     "data": {
      "text/plain": [
       "'2.8.0-rc0'"
      ]
     },
     "execution_count": 1,
     "metadata": {},
     "output_type": "execute_result"
    }
   ],
   "source": [
    "import os\n",
    "\n",
    "import tensorflow as tf\n",
    "import numpy as np\n",
    "import matplotlib.pyplot as plt\n",
    "from tensorflow.keras.preprocessing.image import ImageDataGenerator\n",
    "\n",
    "os.environ['OMP_NUM_THREADS'] = '1'\n",
    "os.environ['CUDA_VISIBLE_DEVICES'] = '-1'\n",
    "tf.__version__"
   ]
  },
  {
   "cell_type": "markdown",
   "metadata": {
    "nbpresent": {
     "id": "66140980-2aa4-457f-b1df-74c10c234cc2"
    }
   },
   "source": [
    "#### Load Image Data"
   ]
  },
  {
   "cell_type": "code",
   "execution_count": 2,
   "metadata": {
    "nbpresent": {
     "id": "58317664-8da3-4283-b3e5-35721687e7ab"
    }
   },
   "outputs": [],
   "source": [
    "DATA_LIST = os.listdir('all/train')\n",
    "DATASET_PATH  = 'all/train'\n",
    "TEST_DIR =  'all/test'\n",
    "IMAGE_SIZE    = (224, 224)\n",
    "NUM_CLASSES   = len(DATA_LIST)\n",
    "BATCH_SIZE    = 10  # try reducing batch size or freeze more layers if your GPU runs out of memory\n",
    "NUM_EPOCHS    = 100\n",
    "LEARNING_RATE = 0.0002 # start off with high rate first 0.001 and experiment with reducing it gradually "
   ]
  },
  {
   "cell_type": "markdown",
   "metadata": {
    "nbpresent": {
     "id": "66140980-2aa4-457f-b1df-74c10c234cc2"
    }
   },
   "source": [
    "#### Generate Training and Validation Batches"
   ]
  },
  {
   "cell_type": "code",
   "execution_count": 3,
   "metadata": {
    "nbpresent": {
     "id": "71760e29-2b08-4259-93f1-ebe68cd74a6d"
    }
   },
   "outputs": [
    {
     "name": "stdout",
     "output_type": "stream",
     "text": [
      "Found 216 images belonging to 4 classes.\n",
      "Found 54 images belonging to 4 classes.\n"
     ]
    },
    {
     "name": "stderr",
     "output_type": "stream",
     "text": [
      "/usr/lib/python3.10/site-packages/keras_preprocessing/image/image_data_generator.py:342: UserWarning: This ImageDataGenerator specifies `zca_whitening` which overrides setting of`featurewise_std_normalization`.\n",
      "  warnings.warn('This ImageDataGenerator specifies '\n"
     ]
    }
   ],
   "source": [
    "train_datagen = ImageDataGenerator(rescale=1./255,rotation_range=50,featurewise_center = True,\n",
    "                                   featurewise_std_normalization = True,width_shift_range=0.2,\n",
    "                                   height_shift_range=0.2,shear_range=0.25,zoom_range=0.1,\n",
    "                                   zca_whitening = True,channel_shift_range = 20,\n",
    "                                   horizontal_flip = True,vertical_flip = True,\n",
    "                                   validation_split = 0.2,fill_mode='constant')\n",
    "\n",
    "\n",
    "train_batches = train_datagen.flow_from_directory(DATASET_PATH,target_size=IMAGE_SIZE,\n",
    "                                                  shuffle=True,batch_size=BATCH_SIZE,\n",
    "                                                  subset = \"training\",seed=42,\n",
    "                                                  class_mode=\"categorical\")\n",
    "\n",
    "valid_batches = train_datagen.flow_from_directory(DATASET_PATH,target_size=IMAGE_SIZE,\n",
    "                                                  shuffle=True,batch_size=BATCH_SIZE,\n",
    "                                                  subset = \"validation\",\n",
    "                                                  seed=42,class_mode=\"categorical\")"
   ]
  },
  {
   "cell_type": "markdown",
   "metadata": {
    "nbpresent": {
     "id": "66140980-2aa4-457f-b1df-74c10c234cc2"
    }
   },
   "source": [
    "#### [10 points] Build Model\n",
    "Hint: Starting from a pre-trained model typically helps performance on a new task, e.g. starting with weights obtained by training on ImageNet. "
   ]
  },
  {
   "cell_type": "code",
   "execution_count": 4,
   "metadata": {
    "nbpresent": {
     "id": "5c52eeb2-1092-4d45-9e16-02219c82cb5e"
    }
   },
   "outputs": [
    {
     "name": "stderr",
     "output_type": "stream",
     "text": [
      "2021-12-30 00:14:49.091236: E tensorflow/stream_executor/cuda/cuda_driver.cc:271] failed call to cuInit: CUDA_ERROR_NO_DEVICE: no CUDA-capable device is detected\n",
      "2021-12-30 00:14:49.091324: I tensorflow/stream_executor/cuda/cuda_diagnostics.cc:169] retrieving CUDA diagnostic information for host: danASUS\n",
      "2021-12-30 00:14:49.091349: I tensorflow/stream_executor/cuda/cuda_diagnostics.cc:176] hostname: danASUS\n",
      "2021-12-30 00:14:49.091576: I tensorflow/stream_executor/cuda/cuda_diagnostics.cc:200] libcuda reported version is: 495.46.0\n",
      "2021-12-30 00:14:49.091652: I tensorflow/stream_executor/cuda/cuda_diagnostics.cc:204] kernel reported version is: 495.46.0\n",
      "2021-12-30 00:14:49.091669: I tensorflow/stream_executor/cuda/cuda_diagnostics.cc:310] kernel version seems to match DSO: 495.46.0\n",
      "2021-12-30 00:14:49.092215: I tensorflow/core/platform/cpu_feature_guard.cc:151] This TensorFlow binary is optimized with oneAPI Deep Neural Network Library (oneDNN) to use the following CPU instructions in performance-critical operations:  AVX2 FMA\n",
      "To enable them in other operations, rebuild TensorFlow with the appropriate compiler flags.\n"
     ]
    },
    {
     "name": "stdout",
     "output_type": "stream",
     "text": [
      "Downloading data from https://storage.googleapis.com/tensorflow/keras-applications/inception_v3/inception_v3_weights_tf_dim_ordering_tf_kernels.h5\n",
      "96116736/96112376 [==============================] - 24s 0us/step\n",
      "96124928/96112376 [==============================] - 24s 0us/step\n",
      "Model: \"sequential\"\n",
      "_________________________________________________________________\n",
      " Layer (type)                Output Shape              Param #   \n",
      "=================================================================\n",
      " inception_v3 (Functional)   (None, 1000)              23851784  \n",
      "                                                                 \n",
      " flatten (Flatten)           (None, 1000)              0         \n",
      "                                                                 \n",
      " dense (Dense)               (None, 256)               256256    \n",
      "                                                                 \n",
      " dense_1 (Dense)             (None, 128)               32896     \n",
      "                                                                 \n",
      " dense_2 (Dense)             (None, 4)                 516       \n",
      "                                                                 \n",
      "=================================================================\n",
      "Total params: 24,141,452\n",
      "Trainable params: 24,073,180\n",
      "Non-trainable params: 68,272\n",
      "_________________________________________________________________\n"
     ]
    }
   ],
   "source": [
    "from tensorflow.keras import Sequential\n",
    "model = Sequential()\n",
    "base = tf.keras.applications.InceptionV3(    input_shape=None,\n",
    "    include_top=True,\n",
    "    weights=\"imagenet\",\n",
    "    input_tensor=None,\n",
    "    pooling=None,\n",
    "    classes=1000\n",
    ")\n",
    "\n",
    "freeze = 13\n",
    "\n",
    "for layer in (base.layers[:freeze]):\n",
    "  layer.trainable =  False\n",
    "\n",
    "\n",
    "model.add(base)\n",
    "model.add(tf.keras.layers.Flatten())\n",
    "model.add(tf.keras.layers.Dense(256, activation='relu'))\n",
    "model.add(tf.keras.layers.Dense(128, activation='relu'))\n",
    "model.add(tf.keras.layers.Dense(4))\n",
    "model.build(input_shape=(None, 224,224,3))\n",
    "model.summary()\n",
    "\n"
   ]
  },
  {
   "cell_type": "markdown",
   "metadata": {
    "nbpresent": {
     "id": "66140980-2aa4-457f-b1df-74c10c234cc2"
    }
   },
   "source": [
    "#### [5 points] Train Model"
   ]
  },
  {
   "cell_type": "code",
   "execution_count": 5,
   "metadata": {
    "nbpresent": {
     "id": "cdb90d24-6a23-4969-8138-f37e7050062d"
    }
   },
   "outputs": [
    {
     "name": "stdout",
     "output_type": "stream",
     "text": [
      "22\n",
      "6\n",
      "Model: \"sequential\"\n",
      "_________________________________________________________________\n",
      " Layer (type)                Output Shape              Param #   \n",
      "=================================================================\n",
      " inception_v3 (Functional)   (None, 1000)              23851784  \n",
      "                                                                 \n",
      " flatten (Flatten)           (None, 1000)              0         \n",
      "                                                                 \n",
      " dense (Dense)               (None, 256)               256256    \n",
      "                                                                 \n",
      " dense_1 (Dense)             (None, 128)               32896     \n",
      "                                                                 \n",
      " dense_2 (Dense)             (None, 4)                 516       \n",
      "                                                                 \n",
      "=================================================================\n",
      "Total params: 24,141,452\n",
      "Trainable params: 24,073,180\n",
      "Non-trainable params: 68,272\n",
      "_________________________________________________________________\n"
     ]
    },
    {
     "name": "stderr",
     "output_type": "stream",
     "text": [
      "/usr/lib/python3.10/site-packages/keras_preprocessing/image/image_data_generator.py:720: UserWarning: This ImageDataGenerator specifies `featurewise_center`, but it hasn't been fit on any training data. Fit it first by calling `.fit(numpy_data)`.\n",
      "  warnings.warn('This ImageDataGenerator specifies '\n",
      "/usr/lib/python3.10/site-packages/keras_preprocessing/image/image_data_generator.py:739: UserWarning: This ImageDataGenerator specifies `zca_whitening`, but it hasn't been fit on any training data. Fit it first by calling `.fit(numpy_data)`.\n",
      "  warnings.warn('This ImageDataGenerator specifies '\n"
     ]
    },
    {
     "name": "stdout",
     "output_type": "stream",
     "text": [
      "Epoch 1/100\n"
     ]
    },
    {
     "name": "stderr",
     "output_type": "stream",
     "text": [
      "2021-12-30 00:15:35.056418: W tensorflow/core/framework/cpu_allocator_impl.cc:82] Allocation of 30415360 exceeds 10% of free system memory.\n",
      "2021-12-30 00:15:35.116123: W tensorflow/core/framework/cpu_allocator_impl.cc:82] Allocation of 20766720 exceeds 10% of free system memory.\n",
      "2021-12-30 00:15:35.178999: W tensorflow/core/framework/cpu_allocator_impl.cc:82] Allocation of 20766720 exceeds 10% of free system memory.\n",
      "2021-12-30 00:15:36.389199: W tensorflow/core/framework/cpu_allocator_impl.cc:82] Allocation of 24480000 exceeds 10% of free system memory.\n",
      "2021-12-30 00:15:36.390503: W tensorflow/core/framework/cpu_allocator_impl.cc:82] Allocation of 24480000 exceeds 10% of free system memory.\n"
     ]
    },
    {
     "name": "stdout",
     "output_type": "stream",
     "text": [
      "22/22 [==============================] - 51s 2s/step - loss: 1.3848 - accuracy: 0.2963 - val_loss: 1.3887 - val_accuracy: 0.1667\n",
      "Epoch 2/100\n",
      "22/22 [==============================] - 42s 2s/step - loss: 1.3698 - accuracy: 0.4444 - val_loss: 1.3722 - val_accuracy: 0.2778\n",
      "Epoch 3/100\n",
      "22/22 [==============================] - 42s 2s/step - loss: 1.3462 - accuracy: 0.4676 - val_loss: 1.3210 - val_accuracy: 0.4815\n",
      "Epoch 4/100\n",
      "22/22 [==============================] - 42s 2s/step - loss: 1.2935 - accuracy: 0.5231 - val_loss: 1.2700 - val_accuracy: 0.5000\n",
      "Epoch 5/100\n",
      "22/22 [==============================] - 44s 2s/step - loss: 1.2480 - accuracy: 0.5185 - val_loss: 1.2780 - val_accuracy: 0.4815\n",
      "Epoch 6/100\n",
      "22/22 [==============================] - 44s 2s/step - loss: 1.2508 - accuracy: 0.5000 - val_loss: 1.2586 - val_accuracy: 0.4815\n",
      "Epoch 7/100\n",
      "22/22 [==============================] - 45s 2s/step - loss: 1.1922 - accuracy: 0.5417 - val_loss: 1.4401 - val_accuracy: 0.3148\n",
      "Epoch 8/100\n",
      "22/22 [==============================] - 44s 2s/step - loss: 1.2192 - accuracy: 0.4907 - val_loss: 1.3508 - val_accuracy: 0.3889\n",
      "Epoch 9/100\n",
      "22/22 [==============================] - 44s 2s/step - loss: 1.1806 - accuracy: 0.4954 - val_loss: 1.4716 - val_accuracy: 0.2963\n",
      "Epoch 10/100\n",
      "22/22 [==============================] - 44s 2s/step - loss: 1.1260 - accuracy: 0.5324 - val_loss: 1.3364 - val_accuracy: 0.3889\n",
      "Epoch 11/100\n",
      "22/22 [==============================] - 44s 2s/step - loss: 1.1375 - accuracy: 0.5093 - val_loss: 1.2273 - val_accuracy: 0.4815\n",
      "Epoch 12/100\n",
      "22/22 [==============================] - 44s 2s/step - loss: 1.0339 - accuracy: 0.5463 - val_loss: 1.2802 - val_accuracy: 0.4074\n",
      "Epoch 13/100\n",
      "22/22 [==============================] - 46s 2s/step - loss: 1.0734 - accuracy: 0.5324 - val_loss: 1.1266 - val_accuracy: 0.3889\n",
      "Epoch 14/100\n",
      "22/22 [==============================] - 45s 2s/step - loss: 1.1794 - accuracy: 0.4722 - val_loss: 1.4355 - val_accuracy: 0.4074\n",
      "Epoch 15/100\n",
      "22/22 [==============================] - 45s 2s/step - loss: 1.0757 - accuracy: 0.5370 - val_loss: 1.6321 - val_accuracy: 0.3333\n",
      "Epoch 16/100\n",
      "22/22 [==============================] - 44s 2s/step - loss: 1.0881 - accuracy: 0.4954 - val_loss: 1.2863 - val_accuracy: 0.4815\n",
      "Epoch 17/100\n",
      "22/22 [==============================] - 44s 2s/step - loss: 1.0030 - accuracy: 0.5556 - val_loss: 1.3358 - val_accuracy: 0.3704\n",
      "Epoch 18/100\n",
      "22/22 [==============================] - 44s 2s/step - loss: 0.9833 - accuracy: 0.5417 - val_loss: 1.0709 - val_accuracy: 0.5556\n",
      "Epoch 19/100\n",
      "22/22 [==============================] - 42s 2s/step - loss: 1.0012 - accuracy: 0.5648 - val_loss: 1.2280 - val_accuracy: 0.4630\n",
      "Epoch 20/100\n",
      "22/22 [==============================] - 44s 2s/step - loss: 0.8724 - accuracy: 0.6204 - val_loss: 1.3006 - val_accuracy: 0.4259\n",
      "Epoch 21/100\n",
      "22/22 [==============================] - 44s 2s/step - loss: 0.9071 - accuracy: 0.5972 - val_loss: 1.3447 - val_accuracy: 0.4259\n",
      "Epoch 22/100\n",
      "22/22 [==============================] - 44s 2s/step - loss: 1.0693 - accuracy: 0.5370 - val_loss: 1.1425 - val_accuracy: 0.4815\n",
      "Epoch 23/100\n",
      "22/22 [==============================] - 42s 2s/step - loss: 0.8697 - accuracy: 0.6065 - val_loss: 0.7052 - val_accuracy: 0.6667\n",
      "Epoch 24/100\n",
      "22/22 [==============================] - 44s 2s/step - loss: 0.8170 - accuracy: 0.6528 - val_loss: 0.8996 - val_accuracy: 0.6111\n",
      "Epoch 25/100\n",
      "22/22 [==============================] - 45s 2s/step - loss: 0.8361 - accuracy: 0.6250 - val_loss: 1.0510 - val_accuracy: 0.5741\n",
      "Epoch 26/100\n",
      "22/22 [==============================] - 46s 2s/step - loss: 0.9756 - accuracy: 0.5880 - val_loss: 1.3437 - val_accuracy: 0.4815\n",
      "Epoch 27/100\n",
      "22/22 [==============================] - 45s 2s/step - loss: 0.9751 - accuracy: 0.5556 - val_loss: 0.9074 - val_accuracy: 0.5741\n",
      "Epoch 28/100\n",
      "22/22 [==============================] - 45s 2s/step - loss: 0.8342 - accuracy: 0.5648 - val_loss: 0.7584 - val_accuracy: 0.6667\n",
      "Epoch 29/100\n",
      "22/22 [==============================] - 43s 2s/step - loss: 0.8850 - accuracy: 0.5787 - val_loss: 0.8686 - val_accuracy: 0.6111\n",
      "Epoch 30/100\n",
      "22/22 [==============================] - 43s 2s/step - loss: 0.8250 - accuracy: 0.5787 - val_loss: 0.6523 - val_accuracy: 0.6852\n",
      "Epoch 31/100\n",
      "22/22 [==============================] - 43s 2s/step - loss: 0.8512 - accuracy: 0.6343 - val_loss: 0.7282 - val_accuracy: 0.6481\n",
      "Epoch 32/100\n",
      "22/22 [==============================] - 45s 2s/step - loss: 0.7977 - accuracy: 0.6250 - val_loss: 1.1499 - val_accuracy: 0.5926\n",
      "Epoch 33/100\n",
      "22/22 [==============================] - 45s 2s/step - loss: 0.8370 - accuracy: 0.6157 - val_loss: 1.0687 - val_accuracy: 0.5741\n",
      "Epoch 34/100\n",
      "22/22 [==============================] - 43s 2s/step - loss: 0.7912 - accuracy: 0.6389 - val_loss: 1.0948 - val_accuracy: 0.5926\n",
      "Epoch 35/100\n",
      "22/22 [==============================] - 45s 2s/step - loss: 0.8546 - accuracy: 0.6343 - val_loss: 0.9539 - val_accuracy: 0.6852\n",
      "Epoch 36/100\n",
      "22/22 [==============================] - 45s 2s/step - loss: 0.8592 - accuracy: 0.6343 - val_loss: 0.9417 - val_accuracy: 0.6667\n",
      "Epoch 37/100\n",
      "22/22 [==============================] - 45s 2s/step - loss: 0.7720 - accuracy: 0.6435 - val_loss: 0.8844 - val_accuracy: 0.6667\n",
      "Epoch 38/100\n",
      "22/22 [==============================] - 45s 2s/step - loss: 0.8131 - accuracy: 0.6111 - val_loss: 0.9964 - val_accuracy: 0.5741\n",
      "Epoch 39/100\n",
      "22/22 [==============================] - 45s 2s/step - loss: 0.6757 - accuracy: 0.6528 - val_loss: 1.0134 - val_accuracy: 0.6296\n",
      "Epoch 40/100\n",
      "22/22 [==============================] - 45s 2s/step - loss: 0.7086 - accuracy: 0.6389 - val_loss: 0.9198 - val_accuracy: 0.6111\n",
      "Epoch 41/100\n",
      "22/22 [==============================] - 46s 2s/step - loss: 0.7970 - accuracy: 0.5972 - val_loss: 0.6639 - val_accuracy: 0.6852\n",
      "Epoch 42/100\n",
      "22/22 [==============================] - 44s 2s/step - loss: 0.7404 - accuracy: 0.6528 - val_loss: 0.7579 - val_accuracy: 0.6852\n",
      "Epoch 43/100\n",
      "22/22 [==============================] - 45s 2s/step - loss: 0.8194 - accuracy: 0.5741 - val_loss: 0.8573 - val_accuracy: 0.6296\n",
      "Epoch 44/100\n",
      "22/22 [==============================] - 46s 2s/step - loss: 0.7009 - accuracy: 0.6806 - val_loss: 0.7111 - val_accuracy: 0.6667\n",
      "Epoch 45/100\n",
      "22/22 [==============================] - 45s 2s/step - loss: 0.7678 - accuracy: 0.6296 - val_loss: 0.8781 - val_accuracy: 0.5556\n",
      "Epoch 46/100\n",
      "22/22 [==============================] - 44s 2s/step - loss: 0.8121 - accuracy: 0.6389 - val_loss: 0.8292 - val_accuracy: 0.6852\n",
      "Epoch 47/100\n",
      "22/22 [==============================] - 44s 2s/step - loss: 0.7924 - accuracy: 0.5926 - val_loss: 0.7582 - val_accuracy: 0.7037\n",
      "Epoch 48/100\n",
      "22/22 [==============================] - 44s 2s/step - loss: 0.7011 - accuracy: 0.6481 - val_loss: 0.6057 - val_accuracy: 0.6852\n",
      "Epoch 49/100\n",
      "22/22 [==============================] - 45s 2s/step - loss: 0.6828 - accuracy: 0.6898 - val_loss: 0.5857 - val_accuracy: 0.7037\n",
      "Epoch 50/100\n",
      "22/22 [==============================] - 45s 2s/step - loss: 0.6468 - accuracy: 0.7315 - val_loss: 0.7000 - val_accuracy: 0.6481\n",
      "Epoch 51/100\n",
      "22/22 [==============================] - 46s 2s/step - loss: 0.6501 - accuracy: 0.6898 - val_loss: 0.6711 - val_accuracy: 0.6111\n",
      "Epoch 52/100\n",
      "22/22 [==============================] - 45s 2s/step - loss: 0.6495 - accuracy: 0.6528 - val_loss: 0.6373 - val_accuracy: 0.6296\n",
      "Epoch 53/100\n",
      "22/22 [==============================] - 50s 2s/step - loss: 0.6872 - accuracy: 0.6481 - val_loss: 0.7893 - val_accuracy: 0.5926\n",
      "Epoch 54/100\n",
      "22/22 [==============================] - 50s 2s/step - loss: 0.7688 - accuracy: 0.5833 - val_loss: 0.9693 - val_accuracy: 0.5000\n",
      "Epoch 55/100\n",
      "22/22 [==============================] - 58s 3s/step - loss: 0.6417 - accuracy: 0.6620 - val_loss: 0.6902 - val_accuracy: 0.7037\n",
      "Epoch 56/100\n",
      "22/22 [==============================] - 55s 3s/step - loss: 0.7647 - accuracy: 0.6528 - val_loss: 0.6082 - val_accuracy: 0.7037\n",
      "Epoch 57/100\n",
      "22/22 [==============================] - 46s 2s/step - loss: 0.6266 - accuracy: 0.6898 - val_loss: 0.5624 - val_accuracy: 0.6667\n",
      "Epoch 58/100\n",
      "22/22 [==============================] - 47s 2s/step - loss: 0.5808 - accuracy: 0.6944 - val_loss: 0.5771 - val_accuracy: 0.7407\n",
      "Epoch 59/100\n",
      "22/22 [==============================] - 45s 2s/step - loss: 0.5814 - accuracy: 0.6852 - val_loss: 0.5441 - val_accuracy: 0.7222\n",
      "Epoch 60/100\n",
      "22/22 [==============================] - 45s 2s/step - loss: 0.6072 - accuracy: 0.6620 - val_loss: 0.7161 - val_accuracy: 0.6852\n",
      "Epoch 61/100\n",
      "22/22 [==============================] - 45s 2s/step - loss: 0.5782 - accuracy: 0.6991 - val_loss: 0.6605 - val_accuracy: 0.5926\n",
      "Epoch 62/100\n",
      "22/22 [==============================] - 45s 2s/step - loss: 0.5975 - accuracy: 0.6481 - val_loss: 0.4521 - val_accuracy: 0.7593\n",
      "Epoch 63/100\n",
      "22/22 [==============================] - 45s 2s/step - loss: 0.6389 - accuracy: 0.6435 - val_loss: 0.6365 - val_accuracy: 0.7222\n",
      "Epoch 64/100\n",
      "22/22 [==============================] - 46s 2s/step - loss: 0.5793 - accuracy: 0.6852 - val_loss: 0.5948 - val_accuracy: 0.7593\n",
      "Epoch 65/100\n",
      "22/22 [==============================] - 45s 2s/step - loss: 0.6111 - accuracy: 0.7130 - val_loss: 0.8337 - val_accuracy: 0.5741\n",
      "Epoch 66/100\n",
      "22/22 [==============================] - 45s 2s/step - loss: 0.5859 - accuracy: 0.7037 - val_loss: 0.5640 - val_accuracy: 0.7222\n",
      "Epoch 67/100\n",
      "22/22 [==============================] - 45s 2s/step - loss: 0.6331 - accuracy: 0.6852 - val_loss: 0.4750 - val_accuracy: 0.7407\n",
      "Epoch 68/100\n",
      "22/22 [==============================] - 45s 2s/step - loss: 0.5998 - accuracy: 0.6944 - val_loss: 0.4702 - val_accuracy: 0.7963\n",
      "Epoch 69/100\n",
      "22/22 [==============================] - 45s 2s/step - loss: 0.6398 - accuracy: 0.7269 - val_loss: 0.5685 - val_accuracy: 0.7407\n",
      "Epoch 70/100\n",
      "22/22 [==============================] - 46s 2s/step - loss: 0.6065 - accuracy: 0.7130 - val_loss: 0.4415 - val_accuracy: 0.7778\n",
      "Epoch 71/100\n",
      "22/22 [==============================] - 47s 2s/step - loss: 0.5553 - accuracy: 0.7315 - val_loss: 0.5289 - val_accuracy: 0.7407\n",
      "Epoch 72/100\n",
      "22/22 [==============================] - 44s 2s/step - loss: 0.5891 - accuracy: 0.6713 - val_loss: 0.4539 - val_accuracy: 0.6852\n",
      "Epoch 73/100\n",
      "22/22 [==============================] - 51s 2s/step - loss: 0.6461 - accuracy: 0.6620 - val_loss: 0.5765 - val_accuracy: 0.7778\n",
      "Epoch 74/100\n",
      "22/22 [==============================] - 49s 2s/step - loss: 0.5428 - accuracy: 0.6667 - val_loss: 0.6869 - val_accuracy: 0.6481\n",
      "Epoch 75/100\n",
      "22/22 [==============================] - 46s 2s/step - loss: 0.5511 - accuracy: 0.7361 - val_loss: 0.6393 - val_accuracy: 0.6852\n",
      "Epoch 76/100\n",
      "22/22 [==============================] - 44s 2s/step - loss: 0.6546 - accuracy: 0.6852 - val_loss: 0.4921 - val_accuracy: 0.7222\n",
      "Epoch 77/100\n",
      "22/22 [==============================] - 47s 2s/step - loss: 0.5392 - accuracy: 0.7176 - val_loss: 0.7955 - val_accuracy: 0.6481\n",
      "Epoch 78/100\n",
      "22/22 [==============================] - 44s 2s/step - loss: 0.5161 - accuracy: 0.7222 - val_loss: 0.5389 - val_accuracy: 0.7593\n",
      "Epoch 79/100\n",
      "22/22 [==============================] - 46s 2s/step - loss: 0.6205 - accuracy: 0.6991 - val_loss: 0.5498 - val_accuracy: 0.7037\n",
      "Epoch 80/100\n",
      "22/22 [==============================] - 47s 2s/step - loss: 0.5749 - accuracy: 0.6806 - val_loss: 0.5272 - val_accuracy: 0.7593\n",
      "Epoch 81/100\n",
      "22/22 [==============================] - 44s 2s/step - loss: 0.4743 - accuracy: 0.7731 - val_loss: 0.5790 - val_accuracy: 0.7407\n",
      "Epoch 82/100\n",
      "22/22 [==============================] - 44s 2s/step - loss: 0.5979 - accuracy: 0.7176 - val_loss: 1.4676 - val_accuracy: 0.4815\n",
      "Epoch 83/100\n",
      "22/22 [==============================] - 45s 2s/step - loss: 0.5516 - accuracy: 0.6944 - val_loss: 0.8245 - val_accuracy: 0.6852\n",
      "Epoch 84/100\n",
      "22/22 [==============================] - 45s 2s/step - loss: 0.5544 - accuracy: 0.7731 - val_loss: 0.5651 - val_accuracy: 0.7037\n",
      "Epoch 85/100\n",
      "22/22 [==============================] - 44s 2s/step - loss: 0.6224 - accuracy: 0.7454 - val_loss: 0.6992 - val_accuracy: 0.6852\n",
      "Epoch 86/100\n",
      "22/22 [==============================] - 44s 2s/step - loss: 0.5575 - accuracy: 0.7639 - val_loss: 0.8129 - val_accuracy: 0.6852\n",
      "Epoch 87/100\n",
      "22/22 [==============================] - 44s 2s/step - loss: 0.6141 - accuracy: 0.6898 - val_loss: 0.8127 - val_accuracy: 0.6296\n",
      "Epoch 88/100\n",
      "22/22 [==============================] - 44s 2s/step - loss: 0.5897 - accuracy: 0.7361 - val_loss: 0.6452 - val_accuracy: 0.6852\n",
      "Epoch 89/100\n",
      "22/22 [==============================] - 46s 2s/step - loss: 0.4978 - accuracy: 0.7731 - val_loss: 0.6664 - val_accuracy: 0.6852\n",
      "Epoch 90/100\n",
      "22/22 [==============================] - 44s 2s/step - loss: 0.5059 - accuracy: 0.7685 - val_loss: 0.5974 - val_accuracy: 0.7407\n",
      "Epoch 91/100\n",
      "22/22 [==============================] - 44s 2s/step - loss: 0.4969 - accuracy: 0.7731 - val_loss: 0.9565 - val_accuracy: 0.5741\n",
      "Epoch 92/100\n",
      "22/22 [==============================] - 44s 2s/step - loss: 0.5398 - accuracy: 0.7500 - val_loss: 0.8790 - val_accuracy: 0.6111\n",
      "Epoch 93/100\n",
      "22/22 [==============================] - 44s 2s/step - loss: 0.4365 - accuracy: 0.8009 - val_loss: 0.5918 - val_accuracy: 0.7222\n",
      "Epoch 94/100\n",
      "22/22 [==============================] - 44s 2s/step - loss: 0.5654 - accuracy: 0.7361 - val_loss: 0.6291 - val_accuracy: 0.7222\n",
      "Epoch 95/100\n",
      "22/22 [==============================] - 44s 2s/step - loss: 0.5064 - accuracy: 0.7500 - val_loss: 0.5446 - val_accuracy: 0.7407\n",
      "Epoch 96/100\n",
      "22/22 [==============================] - 44s 2s/step - loss: 0.4631 - accuracy: 0.8148 - val_loss: 0.5354 - val_accuracy: 0.7037\n",
      "Epoch 97/100\n",
      "22/22 [==============================] - 44s 2s/step - loss: 0.4111 - accuracy: 0.8056 - val_loss: 0.6226 - val_accuracy: 0.7407\n",
      "Epoch 98/100\n",
      "22/22 [==============================] - 44s 2s/step - loss: 0.4452 - accuracy: 0.7917 - val_loss: 0.6214 - val_accuracy: 0.7407\n",
      "Epoch 99/100\n",
      "22/22 [==============================] - 44s 2s/step - loss: 0.5178 - accuracy: 0.7315 - val_loss: 0.5713 - val_accuracy: 0.7407\n",
      "Epoch 100/100\n",
      "22/22 [==============================] - 45s 2s/step - loss: 0.6118 - accuracy: 0.7593 - val_loss: 0.5626 - val_accuracy: 0.7037\n"
     ]
    }
   ],
   "source": [
    "#FIT MODEL\n",
    "print(len(train_batches))\n",
    "print(len(valid_batches))\n",
    "\n",
    "STEP_SIZE_TRAIN=train_batches.n//train_batches.batch_size\n",
    "STEP_SIZE_VALID=valid_batches.n//valid_batches.batch_size\n",
    "\n",
    "model.build(input_shape=(None,224,224,3))\n",
    "model.summary()\n",
    "\n",
    "model.compile(optimizer=tf.keras.optimizers.Adam(learning_rate = LEARNING_RATE),  loss=tf.keras.losses.CategoricalCrossentropy(from_logits=True), metrics=['accuracy'])\n",
    "history = model.fit(train_batches, epochs = 100, validation_data=valid_batches)"
   ]
  },
  {
   "cell_type": "markdown",
   "metadata": {
    "nbpresent": {
     "id": "66140980-2aa4-457f-b1df-74c10c234cc2"
    }
   },
   "source": [
    "#### [5 points] Plot Accuracy and Loss During Training"
   ]
  },
  {
   "cell_type": "code",
   "execution_count": 6,
   "metadata": {
    "nbpresent": {
     "id": "ff342098-784a-4e20-ac34-b74ca8ebe839"
    }
   },
   "outputs": [
    {
     "data": {
      "image/png": "[encoded data removed]",
      "text/plain": [
       "<Figure size 432x288 with 1 Axes>"
      ]
     },
     "metadata": {
      "needs_background": "light"
     },
     "output_type": "display_data"
    },
    {
     "data": {
      "image/png": "[encoded data removed]",
      "text/plain": [
       "<Figure size 432x288 with 1 Axes>"
      ]
     },
     "metadata": {
      "needs_background": "light"
     },
     "output_type": "display_data"
    }
   ],
   "source": [
    "import matplotlib.pyplot as plt\n",
    "\n",
    "plt.plot(history.history['accuracy'], label='accuracy')\n",
    "plt.plot(history.history['val_accuracy'], label = 'validation accuracy')\n",
    "plt.xlabel('Epoch')\n",
    "plt.ylabel('Accuracy')\n",
    "plt.legend(loc='lower right')\n",
    "plt.grid()\n",
    "plt.show()\n",
    "\n",
    "plt.plot(history.history['loss'], label='Train_loss')\n",
    "plt.plot(history.history['val_loss'], label = 'val_loss')\n",
    "plt.xlabel('Epoch')\n",
    "plt.ylabel('Loss')\n",
    "plt.legend(loc='lower left')\n",
    "plt.grid()\n",
    "plt.show()"
   ]
  },
  {
   "cell_type": "markdown",
   "metadata": {
    "nbpresent": {
     "id": "66140980-2aa4-457f-b1df-74c10c234cc2"
    }
   },
   "source": [
    "#### Testing Model"
   ]
  },
  {
   "cell_type": "code",
   "execution_count": 7,
   "metadata": {},
   "outputs": [
    {
     "name": "stdout",
     "output_type": "stream",
     "text": [
      "Found 36 images belonging to 4 classes.\n",
      "36\n",
      " 1/36 [..............................] - ETA: 4s - loss: 0.4836 - accuracy: 1.0000"
     ]
    },
    {
     "name": "stderr",
     "output_type": "stream",
     "text": [
      "/tmp/ipykernel_46048/463003407.py:7: UserWarning: `Model.evaluate_generator` is deprecated and will be removed in a future version. Please use `Model.evaluate`, which supports generators.\n",
      "  x = model.evaluate_generator(eval_generator,steps = np.ceil(len(eval_generator)),\n"
     ]
    },
    {
     "name": "stdout",
     "output_type": "stream",
     "text": [
      "36/36 [==============================] - 3s 88ms/step - loss: 0.9430 - accuracy: 0.5833\n",
      "Test loss: 0.9430484771728516\n",
      "Test accuracy: 0.5833333134651184\n"
     ]
    }
   ],
   "source": [
    "test_datagen = ImageDataGenerator(rescale=1. / 255)\n",
    "\n",
    "eval_generator = test_datagen.flow_from_directory(TEST_DIR,target_size=IMAGE_SIZE,\n",
    "                                                  batch_size=1,shuffle=True,seed=42,class_mode=\"categorical\")\n",
    "eval_generator.reset()\n",
    "print(len(eval_generator))\n",
    "x = model.evaluate_generator(eval_generator,steps = np.ceil(len(eval_generator)),\n",
    "                           use_multiprocessing = False,verbose = 1,workers=1)\n",
    "print('Test loss:' , x[0])\n",
    "print('Test accuracy:',x[1])"
   ]
  },
  {
   "cell_type": "markdown",
   "metadata": {
    "nbpresent": {
     "id": "66140980-2aa4-457f-b1df-74c10c234cc2"
    }
   },
   "source": [
    "## [10 points] TSNE Plot\n",
    "t-Distributed Stochastic Neighbor Embedding (t-SNE) is a widely used technique for dimensionality reduction that is particularly well suited for the visualization of high-dimensional datasets. After training is complete, extract features from a specific deep layer of your choice, use t-SNE to reduce the dimensionality of your extracted features to 2 dimensions and plot the resulting 2D features."
   ]
  },
  {
   "cell_type": "code",
   "execution_count": 10,
   "metadata": {},
   "outputs": [
    {
     "name": "stdout",
     "output_type": "stream",
     "text": [
      "Found 270 images belonging to 4 classes.\n"
     ]
    },
    {
     "data": {
      "image/png": "[encoded data removed]",
      "text/plain": [
       "<Figure size 1332x756 with 1 Axes>"
      ]
     },
     "metadata": {
      "needs_background": "light"
     },
     "output_type": "display_data"
    }
   ],
   "source": [
    "from sklearn.manifold import TSNE\n",
    "import matplotlib\n",
    "from matplotlib import figure\n",
    "\n",
    "intermediate_layer_model = tf.keras.models.Model(inputs=model.input,\n",
    "                                        outputs=model.get_layer('dense_1').output)\n",
    "\n",
    "tsne_eval_generator = test_datagen.flow_from_directory(DATASET_PATH,target_size=IMAGE_SIZE,\n",
    "                                                  batch_size=1,shuffle=True,seed=42,class_mode=\"categorical\")\n",
    "\n",
    "classes = []\n",
    "for i in range(len(tsne_eval_generator)):\n",
    "    pix, class_val = tsne_eval_generator[i]\n",
    "    for val in range(len(class_val[0])):\n",
    "        if class_val[0][val] == 1:\n",
    "            classes.append(val)\n",
    "out = intermediate_layer_model.predict(tsne_eval_generator)\n",
    "reduced = TSNE(n_components=2, learning_rate='auto',\n",
    "                   init='random').fit_transform(out)\n",
    "x = reduced[ :,0]\n",
    "y = reduced[ :,1]\n",
    "covid_x = []\n",
    "covid_y = []\n",
    "normal_x = []\n",
    "normal_y = []\n",
    "pneumonia_bac_x = []\n",
    "pneumonia_bac_y = []\n",
    "pneumonia_vir_x = []\n",
    "pneumonia_vir_y = []\n",
    "for value in range(len(x)):\n",
    "    if classes[value] == 0:\n",
    "        covid_x.append(x[value])\n",
    "        covid_y.append(y[value])\n",
    "    elif classes[value] == 1:\n",
    "        normal_x.append(x[value])\n",
    "        normal_y.append(y[value])\n",
    "    elif classes[value] == 2:\n",
    "        pneumonia_bac_x.append(x[value])\n",
    "        pneumonia_bac_y.append(y[value])\n",
    "    else:\n",
    "        pneumonia_vir_x.append(x[value])\n",
    "        pneumonia_vir_y.append(y[value])\n",
    "plt.scatter(covid_x, covid_y, c='blue', label=\"COVID-19\", marker = 'x')\n",
    "plt.scatter(normal_x, normal_y, c='orange', label=\"Normal\", marker = 'x')\n",
    "plt.scatter(pneumonia_bac_x, pneumonia_bac_y, c='green', label=\"Pneumonia_bac\", marker = 'x')\n",
    "plt.scatter(pneumonia_vir_x, pneumonia_vir_y, c='red', label=\"Pneumonia_vir\", marker = 'x')\n",
    "fig = matplotlib.pyplot.gcf()\n",
    "fig.set_size_inches(18.5, 10.5)\n",
    "fig.savefig('test2png.png', dpi=100)\n",
    "plt.legend()\n",
    "plt.show()"
   ]
  },
  {
   "cell_type": "markdown",
   "metadata": {},
   "source": [
    "<!-- ## Task 2: COVID-19 vs Normal vs Tertiary Pneumonia (Bacterial and Viral) -->"
   ]
  },
  {
   "cell_type": "markdown",
   "metadata": {
    "nbpresent": {
     "id": "66140980-2aa4-457f-b1df-74c10c234cc2"
    }
   },
   "source": [
    "<!-- #### Renew Training Batch and Validation Batch -->"
   ]
  },
  {
   "cell_type": "markdown",
   "metadata": {
    "nbpresent": {
     "id": "66140980-2aa4-457f-b1df-74c10c234cc2"
    }
   },
   "source": [
    "<!-- #### Renew Model -->"
   ]
  }
 ],
 "metadata": {
  "kernelspec": {
   "display_name": "Python 3",
   "language": "python",
   "name": "python3"
  },
  "language_info": {
   "codemirror_mode": {
    "name": "ipython",
    "version": 3
   },
   "file_extension": ".py",
   "mimetype": "text/x-python",
   "name": "python",
   "nbconvert_exporter": "python",
   "pygments_lexer": "ipython3",
   "version": "3.10.1"
  },
  "latex_envs": {
   "LaTeX_envs_menu_present": true,
   "autoclose": false,
   "autocomplete": true,
   "bibliofile": "biblio.bib",
   "cite_by": "apalike",
   "current_citInitial": 1,
   "eqLabelWithNumbers": true,
   "eqNumInitial": 1,
   "hotkeys": {
    "equation": "Ctrl-E",
    "itemize": "Ctrl-I"
   },
   "labels_anchors": false,
   "latex_user_defs": false,
   "report_style_numbering": false,
   "user_envs_cfg": false
  },
  "toc": {
   "base_numbering": 1,
   "nav_menu": {},
   "number_sections": true,
   "sideBar": true,
   "skip_h1_title": false,
   "title_cell": "Table of Contents",
   "title_sidebar": "Contents",
   "toc_cell": false,
   "toc_position": {},
   "toc_section_display": true,
   "toc_window_display": false
  },
  "varInspector": {
   "cols": {
    "lenName": 16,
    "lenType": 16,
    "lenVar": 40
   },
   "kernels_config": {
    "python": {
     "delete_cmd_postfix": "",
     "delete_cmd_prefix": "del ",
     "library": "var_list.py",
     "varRefreshCmd": "print(var_dic_list())"
    },
    "r": {
     "delete_cmd_postfix": ") ",
     "delete_cmd_prefix": "rm(",
     "library": "var_list.r",
     "varRefreshCmd": "cat(var_dic_list()) "
    }
   },
   "types_to_exclude": [
    "module",
    "function",
    "builtin_function_or_method",
    "instance",
    "_Feature"
   ],
   "window_display": false
  }
 },
 "nbformat": 4,
 "nbformat_minor": 4
}
